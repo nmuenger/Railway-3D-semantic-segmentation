{
 "cells": [
  {
   "cell_type": "code",
   "execution_count": 78,
   "metadata": {},
   "outputs": [],
   "source": [
    "import numpy as np\n",
    "import os\n",
    "import sys\n",
    "import matplotlib.pyplot as plt\n",
    "import copy\n",
    "import random\n",
    "import time \n",
    "sys.path.insert(1, '/workspaces/baseline')\n",
    "from pointcept.datasets.osdar23 import OSDaR23Dataset\n",
    "from railseg.pcd_processing import pcd_to_las\n",
    "from pointcept.datasets.transform import PolarMix, Sparsify\n",
    "from sklearn.preprocessing import PolynomialFeatures\n",
    "from sklearn.linear_model import LinearRegression"
   ]
  },
  {
   "cell_type": "code",
   "execution_count": 79,
   "metadata": {},
   "outputs": [],
   "source": [
    "annotation_disregarded = -2\n",
    "learning_map = {\n",
    "            'background':         0,\n",
    "            'person':             1,\n",
    "            'crowd':              1,\n",
    "            'train':              2,\n",
    "            'wagons':             2,\n",
    "            'bicycle':            0,\n",
    "            'group_of_bicycles':  0,\n",
    "            'motorcycle':         0,\n",
    "            'road_vehicle':       3,\n",
    "            'animal':             0,\n",
    "            'group_of_animals':   0,\n",
    "            'wheelchair':         0,\n",
    "            'drag_shoe':          0,\n",
    "            'track':              4,\n",
    "            'transition':         4,\n",
    "            'switch':             annotation_disregarded,\n",
    "            'catenary_pole':      5,\n",
    "            'signal_pole':        6,\n",
    "            'signal':             6,\n",
    "            'signal_bridge':      0,\n",
    "            'buffer_stop':        7,\n",
    "            'flame':              0,\n",
    "            'smoke':              0\n",
    "        }\n",
    "\n",
    "learning_map_inv = {\n",
    "            #ignore_index: ignore_index,  # \"unlabeled\"\n",
    "            0 : 'background',\n",
    "            1 : 'person',\n",
    "            2 : 'train' ,       \n",
    "            3 : 'road_vehicle',\n",
    "            4 : 'track',\n",
    "            5 : 'catenary_pole',\n",
    "            6 : 'signal',\n",
    "            7 : 'buffer_stop',\n",
    "        }\n",
    "\n",
    "color_map = {#ignore_index:[211, 211, 211],\n",
    "            0:[211, 211, 211],\n",
    "            1: [255, 0, 0],  # Person -> Red\n",
    "            2: [255, 215, 0],# Train -> Yellow\n",
    "            3: [0, 139, 139],# Road vehicle -> Dark blue\n",
    "            4: [255, 0, 255],# Track -> Pink\n",
    "            5: [255, 140, 0],# Catenary_pole -> Orange\n",
    "            6: [0, 191, 255],# Signal -> Flash blue\n",
    "            7: [186, 85, 211],# Buffer stop -> Purple\n",
    "            }"
   ]
  },
  {
   "cell_type": "code",
   "execution_count": 141,
   "metadata": {},
   "outputs": [
    {
     "name": "stderr",
     "output_type": "stream",
     "text": [
      "[2024-07-10 13:11:03,772 INFO defaults.py line 58 177674] Totally 1048 x 1 samples in train set.\n"
     ]
    }
   ],
   "source": [
    "random.seed(32)\n",
    "\n",
    "data = OSDaR23Dataset(data_root=\"/workspaces/baseline/data/OSDaR_dataset/v_2\", learning_map=learning_map, use_preprocessed=False, return_track_poly3d=True)\n",
    "rand_int1 = random.randint(0, 1048)\n",
    "\n",
    "rand_int1 = 50 #240 #50 #230\n",
    "data_dict, track_dict = data.get_data(rand_int1) # was 140 before\n"
   ]
  },
  {
   "cell_type": "code",
   "execution_count": 153,
   "metadata": {},
   "outputs": [],
   "source": [
    "from shapely.geometry import LineString, Point\n",
    "from shapely.ops import unary_union\n",
    "from shapely.ops import nearest_points\n",
    "\n",
    "# Code taken from https://stackoverflow.com/questions/24415806/coordinates-of-the-closest-points-of-two-geometries-in-shapely\n",
    "\n",
    "def project_point(point, line):\n",
    "    # Project one point on the closest location on the line\n",
    "    point = Point(point)\n",
    "    return line.interpolate(line.project(point))\n",
    "\n",
    "def compute_middle_line(left_line, right_line):\n",
    "    # Given a left and right line with same number of points (in LineString format), \n",
    "    # Return the middle line as list of point: [[x1,y1,z1],[x2,y2,z2],...]\n",
    "    middle_array = []\n",
    "    for i in range(len(left_line.coords)):\n",
    "        middle_array.append([(left_line.coords[i][0]+right_line.coords[i][0])/2,\n",
    "                            (left_line.coords[i][1]+right_line.coords[i][1])/2,\n",
    "                            (left_line.coords[i][2]+right_line.coords[i][2])/2])\n",
    "    midline = LineString(middle_array) \n",
    "    distances = np.linspace(0, midline.length, 20)\n",
    "    regular_interval_midline = [list(midline.interpolate(distance).coords[0]) for distance in distances] # \n",
    "    \n",
    "    return regular_interval_midline\n",
    "\n",
    "def midline_between_polylines(left_rail, right_rail):\n",
    "    left_line = LineString(left_rail)\n",
    "    right_line = LineString(right_rail)\n",
    "\n",
    "    if len(left_line.coords) > len(right_line.coords):\n",
    "        right_line = LineString([project_point(point, right_line) for point in left_line.coords])\n",
    "    else: # TODO not sure if I should put an extra cdondition for when the number of points are the same...\n",
    "        left_line = LineString([project_point(point, left_line) for point in right_line.coords])\n",
    "\n",
    "    middle_line = compute_middle_line(left_line, right_line)\n",
    "\n",
    "    return middle_line, left_line, right_line"
   ]
  },
  {
   "cell_type": "code",
   "execution_count": 144,
   "metadata": {},
   "outputs": [],
   "source": [
    "def predict_track_location(x,y, degree):\n",
    "    \"\"\"Goal of this function is to sparsify the track annotations closer to the LiDAR sensor. \n",
    "    It evaluates number of points between [end_range-10 ;end_range] and applies the same density for each bucket of 10m before this.\"\"\"\n",
    "   \n",
    "    # Fit a polynomial regression model\n",
    "    #degree = 2  # You can change the degree based on your needs\n",
    "    poly = PolynomialFeatures(degree=degree)\n",
    "    poly_features = poly.fit_transform(x.reshape(-1, 1))\n",
    "    poly_model = LinearRegression()\n",
    "    poly_model.fit(poly_features, y)\n",
    "\n",
    "    # Predict y values for a smooth curve\n",
    "    x_smooth = np.linspace(x.min(), x.max()+20, 200)\n",
    "    x_smooth_poly_features = poly.transform(x_smooth.reshape(-1, 1))\n",
    "    y_smooth = poly_model.predict(x_smooth_poly_features)\n",
    "    \n",
    "    return x_smooth, y_smooth\n",
    "\n",
    "    # y_predicted = poly_model.predict(poly_features)\n",
    "    # return x, y_predicted\n",
    "    "
   ]
  },
  {
   "cell_type": "code",
   "execution_count": 145,
   "metadata": {},
   "outputs": [],
   "source": [
    "# This code was taken from chatGPT. tried to reproduce what they were proposing in \"Rail Track Detection and Modelling in Mobile Laser Scanner Data\", but not really sure this was what they were doing\n",
    "from scipy.optimize import curve_fit\n",
    "def fourier_third_degree(x, a0, a1, a2, a3, b1, b2, b3):\n",
    "    return a0 + a1 * np.cos(x) + b1 * np.sin(x) + a2 * np.cos(2*x) + b2 * np.sin(2*x) + a3 * np.cos(3*x) + b3 * np.sin(3*x)\n",
    "\n",
    "\n",
    "def predict_track_location_fourier(x,y):\n",
    "    initial_guess = (1.0, 1.0, 1.0, 1.0, 1.0, 1.0, 1.0)\n",
    "\n",
    "    # Fit the Fourier curve\n",
    "    params, params_covariance = curve_fit(fourier_third_degree, x, y, p0=initial_guess)\n",
    "\n",
    "    # Define a range of x values for prediction\n",
    "    x_predict = np.linspace(x.min(), x.max() + 1, 100)\n",
    "\n",
    "    # Predict y values using the fitted Fourier curve\n",
    "    y_predict = fourier_third_degree(x_predict, *params)\n",
    "\n",
    "    return x_predict, y_predict"
   ]
  },
  {
   "cell_type": "code",
   "execution_count": 154,
   "metadata": {},
   "outputs": [
    {
     "name": "stdout",
     "output_type": "stream",
     "text": [
      "took : 0.004269838333129883\n",
      "1.2\n"
     ]
    },
    {
     "name": "stderr",
     "output_type": "stream",
     "text": [
      "/usr/local/lib/python3.8/dist-packages/IPython/core/interactiveshell.py:3508: ShapelyDeprecationWarning: The array interface is deprecated and will no longer work in Shapely 2.0. Convert the '.coords' to a numpy array instead.\n",
      "  exec(code_obj, self.user_global_ns, self.user_ns)\n"
     ]
    },
    {
     "data": {
      "image/png": "[encoded data removed]",
      "text/plain": [
       "<Figure size 1000x400 with 1 Axes>"
      ]
     },
     "metadata": {},
     "output_type": "display_data"
    }
   ],
   "source": [
    "import time\n",
    "x = data_dict[\"coord\"][:,0]\n",
    "y = data_dict[\"coord\"][:,1]\n",
    "c = [np.array(color_map[segmentation])/255 for segmentation in data_dict[\"segment\"]]\n",
    "fig = plt.figure(figsize=(10, 4))\n",
    "ax = fig.add_subplot(111)\n",
    "#scatter = ax.scatter(x, y, c=c, s=0.1)\n",
    "\n",
    "ax.set_xlim(-10, 150)\n",
    "ax.set_ylim(-20, 20)\n",
    "ax.set_aspect('equal')\n",
    "\n",
    "for key, val in track_dict.items():\n",
    "    # ax.plot(np.array(track_dict[key][\"rightRail\"])[:,0],np.array(track_dict[key][\"rightRail\"])[:,1], \"-o\", c=\"steelblue\")\n",
    "    # ax.plot(np.array(track_dict[key][\"leftRail\"])[:,0],np.array(track_dict[key][\"leftRail\"])[:,1], \"-o\", c=\"green\")\n",
    "    time0 =time.time()\n",
    "    midline, left_line, right_line = midline_between_polylines(np.array(track_dict[key][\"leftRail\"]), np.array(track_dict[key][\"rightRail\"]))\n",
    "    print(\"took :\", time.time()-time0)\n",
    "    #ax.plot(np.array(midline)[:,0], np.array(midline)[:,1], \"-o\", c=\"red\")\n",
    "\n",
    "    x_pred, y_pred = predict_track_location(np.array(midline)[:,0], np.array(midline)[:,1], degree=3)\n",
    "    ax.plot(x_pred, y_pred, color='blue', label='Polynomial Fit')\n",
    "    ax.plot(np.array(left_line)[:,0], np.array(left_line)[:,1],  c=\"green\") #Display the \"new\" line with same number of point left and right\n",
    "    ax.plot(np.array(right_line)[:,0], np.array(right_line)[:,1],  c=\"steelblue\")\n",
    "    break\n",
    "# for i in range(len(x_y_curve)):\n",
    "#     ax.plot(x_y_curve[i][\"x\"], x_y_curve[i][\"y\"], color='blue', label='Polynomial Fit')\n",
    "fig.suptitle(\"Original point cloud\")\n",
    "plt.xlabel('X [m]', fontsize=12)\n",
    "plt.ylabel('Y [m]', fontsize=12)\n",
    "fig.tight_layout()\n",
    "fig.show()\n",
    "fig.savefig(\"/workspaces/baseline/exp/temporary_export/predict_track_polylines.jpeg\", dpi=300)\n",
    "#fig.savefig(\"/workspaces/baseline/exp/temporary_export/predict_track.jpeg\", dpi=300)\n",
    "#plt.close(fig)\n",
    "#pcd_to_las(np.vstack((data_dict[\"coord\"], midline)), export_path=\"/workspaces/baseline/exp/temporary_export/visualisation_midline.las\", gt_segm=np.hstack((data_dict[\"segment\"], np.full(len(midline), 10))))\n",
    "print(data_dict[\"scene\"])"
   ]
  }
 ],
 "metadata": {
  "kernelspec": {
   "display_name": "Python 3",
   "language": "python",
   "name": "python3"
  },
  "language_info": {
   "codemirror_mode": {
    "name": "ipython",
    "version": 3
   },
   "file_extension": ".py",
   "mimetype": "text/x-python",
   "name": "python",
   "nbconvert_exporter": "python",
   "pygments_lexer": "ipython3",
   "version": "3.8.10"
  }
 },
 "nbformat": 4,
 "nbformat_minor": 2
}
