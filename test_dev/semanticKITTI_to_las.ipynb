{
 "cells": [
  {
   "cell_type": "code",
   "execution_count": 1,
   "metadata": {},
   "outputs": [],
   "source": [
    "import numpy as np\n",
    "import os\n",
    "import sys \n",
    "\n",
    "sys.path.insert(1, '/workspaces/baseline/railseg')\n",
    "from pcd_processing import pcd_to_las"
   ]
  },
  {
   "cell_type": "code",
   "execution_count": 2,
   "metadata": {},
   "outputs": [],
   "source": [
    "ignore_index = -1\n",
    "learning_map = {\n",
    "            0: ignore_index,  # \"unlabeled\"\n",
    "            1: ignore_index,  # \"outlier\" mapped to \"unlabeled\" --------------------------mapped\n",
    "            10: 0,  # \"car\"\n",
    "            11: 1,  # \"bicycle\"\n",
    "            13: 4,  # \"bus\" mapped to \"other-vehicle\" --------------------------mapped\n",
    "            15: 2,  # \"motorcycle\"\n",
    "            16: 4,  # \"on-rails\" mapped to \"other-vehicle\" ---------------------mapped\n",
    "            18: 3,  # \"truck\"\n",
    "            20: 4,  # \"other-vehicle\"\n",
    "            30: 5,  # \"person\"\n",
    "            31: 6,  # \"bicyclist\"\n",
    "            32: 7,  # \"motorcyclist\"\n",
    "            40: 8,  # \"road\"\n",
    "            44: 9,  # \"parking\"\n",
    "            48: 10,  # \"sidewalk\"\n",
    "            49: 11,  # \"other-ground\"\n",
    "            50: 12,  # \"building\"\n",
    "            51: 13,  # \"fence\"\n",
    "            52: ignore_index,  # \"other-structure\" mapped to \"unlabeled\" ------------------mapped\n",
    "            60: 8,  # \"lane-marking\" to \"road\" ---------------------------------mapped\n",
    "            70: 14,  # \"vegetation\"\n",
    "            71: 15,  # \"trunk\"\n",
    "            72: 16,  # \"terrain\"\n",
    "            80: 17,  # \"pole\"\n",
    "            81: 18,  # \"traffic-sign\"\n",
    "            99: ignore_index,  # \"other-object\" to \"unlabeled\" ----------------------------mapped\n",
    "            252: 0,  # \"moving-car\" to \"car\" ------------------------------------mapped\n",
    "            253: 6,  # \"moving-bicyclist\" to \"bicyclist\" ------------------------mapped\n",
    "            254: 5,  # \"moving-person\" to \"person\" ------------------------------mapped\n",
    "            255: 7,  # \"moving-motorcyclist\" to \"motorcyclist\" ------------------mapped\n",
    "            256: 4,  # \"moving-on-rails\" mapped to \"other-vehicle\" --------------mapped\n",
    "            257: 4,  # \"moving-bus\" mapped to \"other-vehicle\" -------------------mapped\n",
    "            258: 3,  # \"moving-truck\" to \"truck\" --------------------------------mapped\n",
    "            259: 4,  # \"moving-other\"-vehicle to \"other-vehicle\" ----------------mapped\n",
    "        }"
   ]
  },
  {
   "cell_type": "code",
   "execution_count": 15,
   "metadata": {},
   "outputs": [],
   "source": [
    "example_sample = \"/workspaces/baseline/data/semantic_kitti/dataset/sequences/04/velodyne/000000.bin\"\n",
    "data_path = example_sample\n",
    "\n",
    "with open(data_path, \"rb\") as b:\n",
    "    scan = np.fromfile(b, dtype=np.float32).reshape(-1, 4)\n",
    "    coord = scan[:, :3]\n",
    "    strength = scan[:, -1].reshape([-1, 1])\n",
    "\n",
    "    label_file = data_path.replace(\"velodyne\", \"labels\").replace(\".bin\", \".label\")\n",
    "    if os.path.exists(label_file):\n",
    "        with open(label_file, \"rb\") as a:\n",
    "            segment = np.fromfile(a, dtype=np.int32).reshape(-1)\n",
    "            segment = np.vectorize(learning_map.__getitem__)(\n",
    "                segment & 0xFFFF\n",
    "            ).astype(np.int32)\n",
    "    else:\n",
    "        segment = np.zeros(scan.shape[0]).astype(np.int32)\n",
    "    data_dict = dict(coord=coord, strength=strength, segment=segment)"
   ]
  },
  {
   "cell_type": "code",
   "execution_count": 16,
   "metadata": {},
   "outputs": [
    {
     "data": {
      "text/plain": [
       "array([5, 5, 5, 5, 5, 5, 5, 5, 5, 5, 5, 5, 5, 5, 5, 5, 5, 5, 5, 5, 5, 5,\n",
       "       5, 5, 5, 5, 5, 5, 5, 5, 5, 5, 5, 5, 5, 5, 5, 5, 5, 5, 5, 5, 5, 5,\n",
       "       5, 5, 5, 5, 5, 5, 5, 5, 5, 5, 5, 5, 5, 5, 5, 5, 5, 5, 5, 5, 5, 5,\n",
       "       5, 5, 5, 5, 5, 5, 5, 5, 5, 5, 5, 5, 5, 5, 5, 5, 5, 5, 5, 5, 5, 5,\n",
       "       5, 5, 5, 5, 5, 5, 5, 5, 5, 5, 5, 5, 5, 5, 5, 5, 5, 5, 5, 5, 5, 5,\n",
       "       5, 5, 5, 5, 5, 5, 5, 5, 5, 5, 5, 5, 5, 5, 5, 5, 5, 5, 5, 5, 5, 5,\n",
       "       5, 5, 5, 5, 5, 5], dtype=int32)"
      ]
     },
     "execution_count": 16,
     "metadata": {},
     "output_type": "execute_result"
    }
   ],
   "source": [
    "data_dict[\"segment\"][data_dict[\"segment\"]==5]"
   ]
  },
  {
   "cell_type": "code",
   "execution_count": 17,
   "metadata": {},
   "outputs": [],
   "source": [
    "pcd_to_las(coord=data_dict[\"coord\"],export_path =\"/workspaces/baseline/exp/temporary_export/semanticKITTIsample.las\" ,gt_segm = data_dict[\"segment\"])"
   ]
  },
  {
   "cell_type": "code",
   "execution_count": null,
   "metadata": {},
   "outputs": [],
   "source": []
  }
 ],
 "metadata": {
  "kernelspec": {
   "display_name": "Python 3",
   "language": "python",
   "name": "python3"
  },
  "language_info": {
   "codemirror_mode": {
    "name": "ipython",
    "version": 3
   },
   "file_extension": ".py",
   "mimetype": "text/x-python",
   "name": "python",
   "nbconvert_exporter": "python",
   "pygments_lexer": "ipython3",
   "version": "3.8.10"
  }
 },
 "nbformat": 4,
 "nbformat_minor": 2
}
