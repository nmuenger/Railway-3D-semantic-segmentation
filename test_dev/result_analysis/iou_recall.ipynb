{
 "cells": [
  {
   "cell_type": "code",
   "execution_count": 7,
   "metadata": {},
   "outputs": [],
   "source": [
    "import pandas as pd"
   ]
  },
  {
   "cell_type": "code",
   "execution_count": 12,
   "metadata": {},
   "outputs": [],
   "source": [
    "df_4_july = pd.read_csv(\"/workspaces/baseline/exp/inference_run_4_july/stats.csv\", index_col=0)\n",
    "df_24_june = pd.read_csv(\"/workspaces/baseline/exp/inference_run_24_june/stats.csv\", index_col=0)\n",
    "df_27_june = pd.read_csv(\"/workspaces/baseline/exp/inference_run_27_june/stats.csv\", index_col=0)"
   ]
  },
  {
   "cell_type": "code",
   "execution_count": 17,
   "metadata": {},
   "outputs": [
    {
     "data": {
      "text/plain": [
       "0.7859390898713745"
      ]
     },
     "execution_count": 17,
     "metadata": {},
     "output_type": "execute_result"
    }
   ],
   "source": [
    "df_4_july.iloc[0].mean()"
   ]
  },
  {
   "cell_type": "code",
   "execution_count": 14,
   "metadata": {},
   "outputs": [
    {
     "data": {
      "text/html": [
       "<div>\n",
       "<style scoped>\n",
       "    .dataframe tbody tr th:only-of-type {\n",
       "        vertical-align: middle;\n",
       "    }\n",
       "\n",
       "    .dataframe tbody tr th {\n",
       "        vertical-align: top;\n",
       "    }\n",
       "\n",
       "    .dataframe thead th {\n",
       "        text-align: right;\n",
       "    }\n",
       "</style>\n",
       "<table border=\"1\" class=\"dataframe\">\n",
       "  <thead>\n",
       "    <tr style=\"text-align: right;\">\n",
       "      <th></th>\n",
       "      <th>background</th>\n",
       "      <th>person</th>\n",
       "      <th>train</th>\n",
       "      <th>road_vehicle</th>\n",
       "      <th>track</th>\n",
       "      <th>catenary_pole</th>\n",
       "      <th>signal</th>\n",
       "      <th>buffer_stop</th>\n",
       "    </tr>\n",
       "  </thead>\n",
       "  <tbody>\n",
       "    <tr>\n",
       "      <th>iou</th>\n",
       "      <td>0.968339</td>\n",
       "      <td>0.679800</td>\n",
       "      <td>0.847483</td>\n",
       "      <td>0.831164</td>\n",
       "      <td>0.824357</td>\n",
       "      <td>0.483582</td>\n",
       "      <td>0.686766</td>\n",
       "      <td>0.936538</td>\n",
       "    </tr>\n",
       "    <tr>\n",
       "      <th>recall</th>\n",
       "      <td>0.981064</td>\n",
       "      <td>0.748311</td>\n",
       "      <td>0.915270</td>\n",
       "      <td>0.900610</td>\n",
       "      <td>0.932265</td>\n",
       "      <td>0.830855</td>\n",
       "      <td>0.764671</td>\n",
       "      <td>0.951022</td>\n",
       "    </tr>\n",
       "    <tr>\n",
       "      <th>precision</th>\n",
       "      <td>0.986782</td>\n",
       "      <td>0.881306</td>\n",
       "      <td>0.919633</td>\n",
       "      <td>0.915103</td>\n",
       "      <td>0.876877</td>\n",
       "      <td>0.536388</td>\n",
       "      <td>0.870815</td>\n",
       "      <td>0.983999</td>\n",
       "    </tr>\n",
       "  </tbody>\n",
       "</table>\n",
       "</div>"
      ],
      "text/plain": [
       "           background    person     train  road_vehicle     track  \\\n",
       "iou          0.968339  0.679800  0.847483      0.831164  0.824357   \n",
       "recall       0.981064  0.748311  0.915270      0.900610  0.932265   \n",
       "precision    0.986782  0.881306  0.919633      0.915103  0.876877   \n",
       "\n",
       "           catenary_pole    signal  buffer_stop  \n",
       "iou             0.483582  0.686766     0.936538  \n",
       "recall          0.830855  0.764671     0.951022  \n",
       "precision       0.536388  0.870815     0.983999  "
      ]
     },
     "execution_count": 14,
     "metadata": {},
     "output_type": "execute_result"
    }
   ],
   "source": [
    "df_24_june.head()"
   ]
  },
  {
   "cell_type": "code",
   "execution_count": 15,
   "metadata": {},
   "outputs": [
    {
     "data": {
      "text/html": [
       "<div>\n",
       "<style scoped>\n",
       "    .dataframe tbody tr th:only-of-type {\n",
       "        vertical-align: middle;\n",
       "    }\n",
       "\n",
       "    .dataframe tbody tr th {\n",
       "        vertical-align: top;\n",
       "    }\n",
       "\n",
       "    .dataframe thead th {\n",
       "        text-align: right;\n",
       "    }\n",
       "</style>\n",
       "<table border=\"1\" class=\"dataframe\">\n",
       "  <thead>\n",
       "    <tr style=\"text-align: right;\">\n",
       "      <th></th>\n",
       "      <th>background</th>\n",
       "      <th>person</th>\n",
       "      <th>train</th>\n",
       "      <th>road_vehicle</th>\n",
       "      <th>track</th>\n",
       "      <th>catenary_pole</th>\n",
       "      <th>signal</th>\n",
       "      <th>buffer_stop</th>\n",
       "    </tr>\n",
       "  </thead>\n",
       "  <tbody>\n",
       "    <tr>\n",
       "      <th>iou</th>\n",
       "      <td>0.968883</td>\n",
       "      <td>0.695228</td>\n",
       "      <td>0.858632</td>\n",
       "      <td>0.867259</td>\n",
       "      <td>0.825154</td>\n",
       "      <td>0.485164</td>\n",
       "      <td>0.605547</td>\n",
       "      <td>0.937741</td>\n",
       "    </tr>\n",
       "    <tr>\n",
       "      <th>recall</th>\n",
       "      <td>0.981161</td>\n",
       "      <td>0.750217</td>\n",
       "      <td>0.927188</td>\n",
       "      <td>0.918141</td>\n",
       "      <td>0.931820</td>\n",
       "      <td>0.855727</td>\n",
       "      <td>0.671161</td>\n",
       "      <td>0.952394</td>\n",
       "    </tr>\n",
       "    <tr>\n",
       "      <th>precision</th>\n",
       "      <td>0.987249</td>\n",
       "      <td>0.904625</td>\n",
       "      <td>0.920715</td>\n",
       "      <td>0.939937</td>\n",
       "      <td>0.878175</td>\n",
       "      <td>0.528385</td>\n",
       "      <td>0.860998</td>\n",
       "      <td>0.983858</td>\n",
       "    </tr>\n",
       "  </tbody>\n",
       "</table>\n",
       "</div>"
      ],
      "text/plain": [
       "           background    person     train  road_vehicle     track  \\\n",
       "iou          0.968883  0.695228  0.858632      0.867259  0.825154   \n",
       "recall       0.981161  0.750217  0.927188      0.918141  0.931820   \n",
       "precision    0.987249  0.904625  0.920715      0.939937  0.878175   \n",
       "\n",
       "           catenary_pole    signal  buffer_stop  \n",
       "iou             0.485164  0.605547     0.937741  \n",
       "recall          0.855727  0.671161     0.952394  \n",
       "precision       0.528385  0.860998     0.983858  "
      ]
     },
     "execution_count": 15,
     "metadata": {},
     "output_type": "execute_result"
    }
   ],
   "source": [
    "df_27_june.head()"
   ]
  },
  {
   "cell_type": "code",
   "execution_count": null,
   "metadata": {},
   "outputs": [],
   "source": []
  }
 ],
 "metadata": {
  "kernelspec": {
   "display_name": "Python 3",
   "language": "python",
   "name": "python3"
  },
  "language_info": {
   "codemirror_mode": {
    "name": "ipython",
    "version": 3
   },
   "file_extension": ".py",
   "mimetype": "text/x-python",
   "name": "python",
   "nbconvert_exporter": "python",
   "pygments_lexer": "ipython3",
   "version": "3.8.10"
  }
 },
 "nbformat": 4,
 "nbformat_minor": 2
}
