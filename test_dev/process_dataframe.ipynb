{
 "cells": [
  {
   "cell_type": "markdown",
   "metadata": {},
   "source": [
    "This notebook is meant to create the dictionary from the dataframe contained in the csv"
   ]
  },
  {
   "cell_type": "code",
   "execution_count": 1,
   "metadata": {},
   "outputs": [],
   "source": [
    "import pandas as pd \n",
    "df = pd.read_csv('/workspaces/baseline/exp/labeling_osdar.csv')"
   ]
  },
  {
   "cell_type": "code",
   "execution_count": 2,
   "metadata": {},
   "outputs": [],
   "source": [
    "rgb_dict = {}\n",
    "for index, row in df.iterrows():\n",
    "    label = row['label_name']\n",
    "    rgb_values = [row['red'], row['green'], row['blue']]\n",
    "    rgb_dict[label] = rgb_values"
   ]
  },
  {
   "cell_type": "code",
   "execution_count": 4,
   "metadata": {},
   "outputs": [
    {
     "data": {
      "text/plain": [
       "{'background': [211, 211, 211],\n",
       " 'person': [255, 0, 0],\n",
       " 'crowd': [255, 20, 147],\n",
       " 'train': [255, 215, 0],\n",
       " 'wagons': [0, 0, 128],\n",
       " 'bicycle': [0, 191, 255],\n",
       " 'group_of_bicycles': [0, 0, 0],\n",
       " 'motorcycle': [0, 0, 0],\n",
       " 'road_vehicle': [0, 139, 139],\n",
       " 'animal': [154, 205, 50],\n",
       " 'group_of_animals': [0, 0, 0],\n",
       " 'wheelchair': [0, 0, 0],\n",
       " 'drag_shoe': [0, 0, 0],\n",
       " 'track': [255, 0, 255],\n",
       " 'transition': [85, 107, 47],\n",
       " 'switch': [124, 252, 0],\n",
       " 'catenary_pole': [255, 140, 0],\n",
       " 'signal_pole': [240, 230, 140],\n",
       " 'signal': [255, 160, 122],\n",
       " 'signal_bridge': [219, 112, 147],\n",
       " 'buffer_stop': [186, 85, 211],\n",
       " 'flame': [0, 0, 0],\n",
       " 'smoke': [0, 0, 0]}"
      ]
     },
     "execution_count": 4,
     "metadata": {},
     "output_type": "execute_result"
    }
   ],
   "source": [
    "rgb_dict"
   ]
  },
  {
   "cell_type": "code",
   "execution_count": 3,
   "metadata": {},
   "outputs": [
    {
     "data": {
      "text/plain": [
       "['background',\n",
       " 'person',\n",
       " 'crowd',\n",
       " 'train',\n",
       " 'wagons',\n",
       " 'bicycle',\n",
       " 'group_of_bicycles',\n",
       " 'motorcycle',\n",
       " 'road_vehicle',\n",
       " 'animal',\n",
       " 'group_of_animals',\n",
       " 'wheelchair',\n",
       " 'drag_shoe',\n",
       " 'track',\n",
       " 'transition',\n",
       " 'switch',\n",
       " 'catenary_pole',\n",
       " 'signal_pole',\n",
       " 'signal',\n",
       " 'signal_bridge',\n",
       " 'buffer_stop',\n",
       " 'flame',\n",
       " 'smoke']"
      ]
     },
     "execution_count": 3,
     "metadata": {},
     "output_type": "execute_result"
    }
   ],
   "source": [
    "list(rgb_dict.keys())"
   ]
  },
  {
   "cell_type": "code",
   "execution_count": 5,
   "metadata": {},
   "outputs": [
    {
     "name": "stdout",
     "output_type": "stream",
     "text": [
      "[('background', [211, 211, 211]), ('person', [255, 0, 0]), ('crowd', [255, 20, 147]), ('train', [255, 215, 0]), ('wagons', [0, 0, 128]), ('bicycle', [0, 191, 255]), ('group_of_bicycles', [0, 0, 0]), ('motorcycle', [0, 0, 0]), ('road_vehicle', [0, 139, 139]), ('animal', [154, 205, 50]), ('group_of_animals', [0, 0, 0]), ('wheelchair', [0, 0, 0]), ('drag_shoe', [0, 0, 0]), ('track', [255, 0, 255]), ('transition', [85, 107, 47]), ('switch', [124, 252, 0]), ('catenary_pole', [255, 140, 0]), ('signal_pole', [240, 230, 140]), ('signal', [255, 160, 122]), ('signal_bridge', [219, 112, 147]), ('buffer_stop', [186, 85, 211]), ('flame', [0, 0, 0]), ('smoke', [0, 0, 0])]\n"
     ]
    }
   ],
   "source": [
    "# Create list of tuples\n",
    "label_rgb_tuples = []\n",
    "for index, row in df.iterrows():\n",
    "    label = row['label_name']\n",
    "    rgb_values = [row['red'], row['green'], row['blue']]\n",
    "    label_rgb_tuples.append((label, rgb_values))\n",
    "\n",
    "print(label_rgb_tuples)"
   ]
  },
  {
   "cell_type": "code",
   "execution_count": 7,
   "metadata": {},
   "outputs": [
    {
     "data": {
      "text/plain": [
       "[('background', [211, 211, 211]),\n",
       " ('person', [255, 0, 0]),\n",
       " ('crowd', [255, 20, 147]),\n",
       " ('train', [255, 215, 0]),\n",
       " ('wagons', [0, 0, 128]),\n",
       " ('bicycle', [0, 191, 255]),\n",
       " ('group_of_bicycles', [0, 0, 0]),\n",
       " ('motorcycle', [0, 0, 0]),\n",
       " ('road_vehicle', [0, 139, 139]),\n",
       " ('animal', [154, 205, 50]),\n",
       " ('group_of_animals', [0, 0, 0]),\n",
       " ('wheelchair', [0, 0, 0]),\n",
       " ('drag_shoe', [0, 0, 0]),\n",
       " ('track', [255, 0, 255]),\n",
       " ('transition', [85, 107, 47]),\n",
       " ('switch', [124, 252, 0]),\n",
       " ('catenary_pole', [255, 140, 0]),\n",
       " ('signal_pole', [240, 230, 140]),\n",
       " ('signal', [255, 160, 122]),\n",
       " ('signal_bridge', [219, 112, 147]),\n",
       " ('buffer_stop', [186, 85, 211]),\n",
       " ('flame', [0, 0, 0]),\n",
       " ('smoke', [0, 0, 0])]"
      ]
     },
     "execution_count": 7,
     "metadata": {},
     "output_type": "execute_result"
    }
   ],
   "source": [
    "label_rgb_tuples[:]"
   ]
  },
  {
   "cell_type": "code",
   "execution_count": 14,
   "metadata": {},
   "outputs": [
    {
     "data": {
      "text/plain": [
       "[211, 211, 211]"
      ]
     },
     "execution_count": 14,
     "metadata": {},
     "output_type": "execute_result"
    }
   ],
   "source": [
    "list(rgb_dict.values())[0]"
   ]
  },
  {
   "cell_type": "code",
   "execution_count": 16,
   "metadata": {},
   "outputs": [],
   "source": [
    "import numpy as np\n",
    "sample_segment =np.array([0,0,0,1,0,10,0,3])"
   ]
  },
  {
   "cell_type": "code",
   "execution_count": 19,
   "metadata": {},
   "outputs": [],
   "source": [
    "colors_list= list(rgb_dict.values())"
   ]
  },
  {
   "cell_type": "code",
   "execution_count": 20,
   "metadata": {},
   "outputs": [
    {
     "data": {
      "text/plain": [
       "[[211, 211, 211],\n",
       " [255, 0, 0],\n",
       " [255, 20, 147],\n",
       " [255, 215, 0],\n",
       " [0, 0, 128],\n",
       " [0, 191, 255],\n",
       " [0, 0, 0],\n",
       " [0, 0, 0],\n",
       " [0, 139, 139],\n",
       " [154, 205, 50],\n",
       " [0, 0, 0],\n",
       " [0, 0, 0],\n",
       " [0, 0, 0],\n",
       " [255, 0, 255],\n",
       " [85, 107, 47],\n",
       " [124, 252, 0],\n",
       " [255, 140, 0],\n",
       " [240, 230, 140],\n",
       " [255, 160, 122],\n",
       " [219, 112, 147],\n",
       " [186, 85, 211],\n",
       " [0, 0, 0],\n",
       " [0, 0, 0]]"
      ]
     },
     "execution_count": 20,
     "metadata": {},
     "output_type": "execute_result"
    }
   ],
   "source": [
    "sample_segment"
   ]
  },
  {
   "cell_type": "code",
   "execution_count": 18,
   "metadata": {},
   "outputs": [
    {
     "ename": "IndexError",
     "evalue": "index 211 is out of bounds for axis 0 with size 8",
     "output_type": "error",
     "traceback": [
      "\u001b[0;31m---------------------------------------------------------------------------\u001b[0m",
      "\u001b[0;31mIndexError\u001b[0m                                Traceback (most recent call last)",
      "Cell \u001b[0;32mIn[18], line 1\u001b[0m\n\u001b[0;32m----> 1\u001b[0m \u001b[43msample_segment\u001b[49m\u001b[43m[\u001b[49m\u001b[38;5;28;43mlist\u001b[39;49m\u001b[43m(\u001b[49m\u001b[43mrgb_dict\u001b[49m\u001b[38;5;241;43m.\u001b[39;49m\u001b[43mvalues\u001b[49m\u001b[43m(\u001b[49m\u001b[43m)\u001b[49m\u001b[43m)\u001b[49m\u001b[43m]\u001b[49m\n",
      "\u001b[0;31mIndexError\u001b[0m: index 211 is out of bounds for axis 0 with size 8"
     ]
    }
   ],
   "source": [
    "sample_segment[list(rgb_dict.values())]"
   ]
  },
  {
   "cell_type": "code",
   "execution_count": 17,
   "metadata": {},
   "outputs": [
    {
     "data": {
      "text/plain": [
       "array([ 0,  0,  0,  1,  0, 10,  0,  3])"
      ]
     },
     "execution_count": 17,
     "metadata": {},
     "output_type": "execute_result"
    }
   ],
   "source": [
    "sample_segment"
   ]
  },
  {
   "cell_type": "code",
   "execution_count": 15,
   "metadata": {},
   "outputs": [
    {
     "data": {
      "text/plain": [
       "[[211, 211, 211],\n",
       " [255, 0, 0],\n",
       " [255, 20, 147],\n",
       " [255, 215, 0],\n",
       " [0, 0, 128],\n",
       " [0, 191, 255],\n",
       " [0, 0, 0],\n",
       " [0, 0, 0],\n",
       " [0, 139, 139],\n",
       " [154, 205, 50],\n",
       " [0, 0, 0],\n",
       " [0, 0, 0],\n",
       " [0, 0, 0],\n",
       " [255, 0, 255],\n",
       " [85, 107, 47],\n",
       " [124, 252, 0],\n",
       " [255, 140, 0],\n",
       " [240, 230, 140],\n",
       " [255, 160, 122],\n",
       " [219, 112, 147],\n",
       " [186, 85, 211],\n",
       " [0, 0, 0],\n",
       " [0, 0, 0]]"
      ]
     },
     "execution_count": 15,
     "metadata": {},
     "output_type": "execute_result"
    }
   ],
   "source": [
    "list(rgb_dict.values())"
   ]
  },
  {
   "cell_type": "code",
   "execution_count": 28,
   "metadata": {},
   "outputs": [],
   "source": [
    "colors_array = np.array(colors_list)"
   ]
  },
  {
   "cell_type": "code",
   "execution_count": 29,
   "metadata": {},
   "outputs": [
    {
     "data": {
      "text/plain": [
       "array([[211, 211, 211],\n",
       "       [211, 211, 211],\n",
       "       [211, 211, 211],\n",
       "       [255,   0,   0],\n",
       "       [211, 211, 211],\n",
       "       [  0,   0,   0],\n",
       "       [211, 211, 211],\n",
       "       [255, 215,   0]])"
      ]
     },
     "execution_count": 29,
     "metadata": {},
     "output_type": "execute_result"
    }
   ],
   "source": [
    "colors_array[sample_segment]"
   ]
  },
  {
   "cell_type": "code",
   "execution_count": null,
   "metadata": {},
   "outputs": [],
   "source": []
  }
 ],
 "metadata": {
  "kernelspec": {
   "display_name": "Python 3",
   "language": "python",
   "name": "python3"
  },
  "language_info": {
   "codemirror_mode": {
    "name": "ipython",
    "version": 3
   },
   "file_extension": ".py",
   "mimetype": "text/x-python",
   "name": "python",
   "nbconvert_exporter": "python",
   "pygments_lexer": "ipython3",
   "version": "3.8.10"
  }
 },
 "nbformat": 4,
 "nbformat_minor": 2
}
