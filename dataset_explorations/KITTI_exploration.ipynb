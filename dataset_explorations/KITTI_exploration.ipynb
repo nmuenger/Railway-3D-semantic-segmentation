{
 "cells": [
  {
   "cell_type": "code",
   "execution_count": 4,
   "metadata": {},
   "outputs": [],
   "source": [
    "import os\n",
    "import numpy as np\n",
    "import sys\n",
    "sys.path.insert(1, '/workspaces/baseline')\n",
    "\n",
    "from railseg.pcd_processing import pcd_to_las"
   ]
  },
  {
   "cell_type": "code",
   "execution_count": 3,
   "metadata": {},
   "outputs": [],
   "source": [
    "pcd_path = \"/workspaces/baseline/data/semantic_kitti/dataset/sequences/00/velodyne/000000.bin\"\n",
    "with open(pcd_path, \"rb\") as b:\n",
    "    scan = np.fromfile(b, dtype=np.float32).reshape(-1, 4)"
   ]
  },
  {
   "cell_type": "code",
   "execution_count": 4,
   "metadata": {},
   "outputs": [
    {
     "data": {
      "text/plain": [
       "array([[ 5.2897942e+01,  2.2989739e-02,  1.9979945e+00,  7.9999998e-02],\n",
       "       [ 5.3750526e+01,  1.9291429e-01,  2.0269539e+00,  0.0000000e+00],\n",
       "       [ 5.3803116e+01,  3.6183926e-01,  2.0289137e+00,  0.0000000e+00],\n",
       "       ...,\n",
       "       [ 3.8401384e+00, -1.4381756e+00, -1.7735560e+00,  3.4000000e-01],\n",
       "       [ 3.8257158e+00, -1.4192016e+00, -1.7645701e+00,  2.5000000e-01],\n",
       "       [ 4.0923753e+00, -1.5071962e+00, -1.8955611e+00,  0.0000000e+00]],\n",
       "      dtype=float32)"
      ]
     },
     "execution_count": 4,
     "metadata": {},
     "output_type": "execute_result"
    }
   ],
   "source": [
    "scan"
   ]
  },
  {
   "cell_type": "code",
   "execution_count": 5,
   "metadata": {},
   "outputs": [],
   "source": [
    "label_file = '/workspaces/baseline/data/semantic_kitti/dataset/sequences/00/labels/000000.label'\n",
    "if os.path.exists(label_file):\n",
    "    with open(label_file, \"rb\") as a:\n",
    "        segment = np.fromfile(a, dtype=np.int32).reshape(-1)\n",
    "        # segment = np.vectorize(self.learning_map.__getitem__)(\n",
    "        #     segment & 0xFFFF\n",
    "        # ).astype(np.int32)"
   ]
  },
  {
   "cell_type": "code",
   "execution_count": 6,
   "metadata": {},
   "outputs": [
    {
     "data": {
      "text/plain": [
       "array([ 0,  0,  0, ..., 40, 40, 40], dtype=int32)"
      ]
     },
     "execution_count": 6,
     "metadata": {},
     "output_type": "execute_result"
    }
   ],
   "source": [
    "(segment & 0xFFFF).astype(np.int32)"
   ]
  },
  {
   "cell_type": "code",
   "execution_count": 7,
   "metadata": {},
   "outputs": [
    {
     "data": {
      "text/plain": [
       "array([  0,   1,  10,  40,  44,  48,  50,  51,  52,  60,  70,  71,  72,\n",
       "        80,  81,  99, 255], dtype=int32)"
      ]
     },
     "execution_count": 7,
     "metadata": {},
     "output_type": "execute_result"
    }
   ],
   "source": [
    "np.unique((segment & 0xFFFF).astype(np.int32))"
   ]
  },
  {
   "cell_type": "markdown",
   "metadata": {},
   "source": [
    "Notice that it corresponds exactly with the label in pointcept/datasets/semantic_kitti.py in the mapping. I think we need to the the same with the point cloud from OSDaR. Set all the labels that are unknown to -1. Also not sure that the class have a number in osdar, so maybe attribute one."
   ]
  },
  {
   "cell_type": "code",
   "execution_count": 8,
   "metadata": {},
   "outputs": [
    {
     "data": {
      "text/plain": [
       "124668"
      ]
     },
     "execution_count": 8,
     "metadata": {},
     "output_type": "execute_result"
    }
   ],
   "source": [
    "len(scan)"
   ]
  },
  {
   "cell_type": "code",
   "execution_count": 9,
   "metadata": {},
   "outputs": [
    {
     "data": {
      "text/plain": [
       "124668"
      ]
     },
     "execution_count": 9,
     "metadata": {},
     "output_type": "execute_result"
    }
   ],
   "source": [
    "len(segment)"
   ]
  },
  {
   "cell_type": "code",
   "execution_count": 5,
   "metadata": {},
   "outputs": [],
   "source": [
    "ignore_index=20\n",
    "learning_map = {\n",
    "            0: ignore_index,  # \"unlabeled\"\n",
    "            1: ignore_index,  # \"outlier\" mapped to \"unlabeled\" --------------------------mapped\n",
    "            10: 0,  # \"car\"\n",
    "            11: 1,  # \"bicycle\"\n",
    "            13: 4,  # \"bus\" mapped to \"other-vehicle\" --------------------------mapped\n",
    "            15: 2,  # \"motorcycle\"\n",
    "            16: 4,  # \"on-rails\" mapped to \"other-vehicle\" ---------------------mapped\n",
    "            18: 3,  # \"truck\"\n",
    "            20: 4,  # \"other-vehicle\"\n",
    "            30: 5,  # \"person\"\n",
    "            31: 6,  # \"bicyclist\"\n",
    "            32: 7,  # \"motorcyclist\"\n",
    "            40: 8,  # \"road\"\n",
    "            44: 9,  # \"parking\"\n",
    "            48: 10,  # \"sidewalk\"\n",
    "            49: 11,  # \"other-ground\"\n",
    "            50: 12,  # \"building\"\n",
    "            51: 13,  # \"fence\"\n",
    "            52: ignore_index,  # \"other-structure\" mapped to \"unlabeled\" ------------------mapped\n",
    "            60: 8,  # \"lane-marking\" to \"road\" ---------------------------------mapped\n",
    "            70: 14,  # \"vegetation\"\n",
    "            71: 15,  # \"trunk\"\n",
    "            72: 16,  # \"terrain\"\n",
    "            80: 17,  # \"pole\"\n",
    "            81: 18,  # \"traffic-sign\"\n",
    "            99: ignore_index,  # \"other-object\" to \"unlabeled\" ----------------------------mapped\n",
    "            252: 0,  # \"moving-car\" to \"car\" ------------------------------------mapped\n",
    "            253: 6,  # \"moving-bicyclist\" to \"bicyclist\" ------------------------mapped\n",
    "            254: 5,  # \"moving-person\" to \"person\" ------------------------------mapped\n",
    "            255: 7,  # \"moving-motorcyclist\" to \"motorcyclist\" ------------------mapped\n",
    "            256: 4,  # \"moving-on-rails\" mapped to \"other-vehicle\" --------------mapped\n",
    "            257: 4,  # \"moving-bus\" mapped to \"other-vehicle\" -------------------mapped\n",
    "            258: 3,  # \"moving-truck\" to \"truck\" --------------------------------mapped\n",
    "            259: 4,  # \"moving-other\"-vehicle to \"other-vehicle\" ----------------mapped\n",
    "        }"
   ]
  },
  {
   "cell_type": "code",
   "execution_count": 9,
   "metadata": {},
   "outputs": [],
   "source": [
    "\n",
    "data_path = \"/workspaces/baseline/data/semantic_kitti/dataset/sequences/00/velodyne/000000.bin\"\n",
    "frame_nb=data_path.split(\"/\")[-1].replace(\".bin\",\"\")\n",
    "with open(data_path, \"rb\") as b:\n",
    "    scan = np.fromfile(b, dtype=np.float32).reshape(-1, 4)\n",
    "coord = scan[:, :3]\n",
    "strength = scan[:, -1].reshape([-1, 1])\n",
    "\n",
    "label_file = data_path.replace(\"velodyne\", \"labels\").replace(\".bin\", \".label\")\n",
    "if os.path.exists(label_file):\n",
    "    with open(label_file, \"rb\") as a:\n",
    "        segment = np.fromfile(a, dtype=np.int32).reshape(-1)\n",
    "        segment = np.vectorize(learning_map.__getitem__)(\n",
    "            segment & 0xFFFF\n",
    "        ).astype(np.int32)\n",
    "else:\n",
    "    segment = np.zeros(scan.shape[0]).astype(np.int32)"
   ]
  },
  {
   "cell_type": "code",
   "execution_count": 12,
   "metadata": {},
   "outputs": [],
   "source": [
    "pcd_to_las(coord, f\"/workspaces/baseline/exp/temporary_export/semantic_KITTI_{frame_nb}.las\", gt_segm=segment)"
   ]
  },
  {
   "cell_type": "code",
   "execution_count": null,
   "metadata": {},
   "outputs": [],
   "source": []
  }
 ],
 "metadata": {
  "kernelspec": {
   "display_name": "Python 3",
   "language": "python",
   "name": "python3"
  },
  "language_info": {
   "codemirror_mode": {
    "name": "ipython",
    "version": 3
   },
   "file_extension": ".py",
   "mimetype": "text/x-python",
   "name": "python",
   "nbconvert_exporter": "python",
   "pygments_lexer": "ipython3",
   "version": "3.8.10"
  }
 },
 "nbformat": 4,
 "nbformat_minor": 2
}
