{
 "cells": [
  {
   "cell_type": "code",
   "execution_count": 62,
   "metadata": {},
   "outputs": [],
   "source": [
    "import numpy as np\n",
    "from pathlib import Path\n",
    "import os\n"
   ]
  },
  {
   "cell_type": "markdown",
   "metadata": {},
   "source": [
    "nuScenes"
   ]
  },
  {
   "cell_type": "code",
   "execution_count": 52,
   "metadata": {},
   "outputs": [],
   "source": [
    "lidar_folder_nuscenes = \"/workspaces/baseline/data/nuscenes/raw/samples/LIDAR_TOP\""
   ]
  },
  {
   "cell_type": "code",
   "execution_count": 53,
   "metadata": {},
   "outputs": [],
   "source": [
    "def get_number_points_nuscenes(pcd_path):\n",
    "    pcd_data_np = np.fromfile(str(pcd_path), dtype=np.float32, count=-1).reshape(\n",
    "                        [-1, 5]\n",
    "                        )\n",
    "    return len(pcd_data_np)"
   ]
  },
  {
   "cell_type": "code",
   "execution_count": 54,
   "metadata": {},
   "outputs": [
    {
     "ename": "KeyboardInterrupt",
     "evalue": "",
     "output_type": "error",
     "traceback": [
      "\u001b[0;31m---------------------------------------------------------------------------\u001b[0m",
      "\u001b[0;31mKeyboardInterrupt\u001b[0m                         Traceback (most recent call last)",
      "Cell \u001b[0;32mIn[54], line 6\u001b[0m\n\u001b[1;32m      3\u001b[0m nb_point_list \u001b[38;5;241m=\u001b[39m []\n\u001b[1;32m      4\u001b[0m \u001b[38;5;28;01mfor\u001b[39;00m path \u001b[38;5;129;01min\u001b[39;00m pathlist:\n\u001b[1;32m      5\u001b[0m     \u001b[38;5;66;03m# Get number of point for each point cloud in the directory\u001b[39;00m\n\u001b[0;32m----> 6\u001b[0m     nb_point_list\u001b[38;5;241m.\u001b[39mappend(\u001b[43mget_number_points_nuscenes\u001b[49m\u001b[43m(\u001b[49m\u001b[43mpath\u001b[49m\u001b[43m)\u001b[49m)\n",
      "Cell \u001b[0;32mIn[53], line 2\u001b[0m, in \u001b[0;36mget_number_points_nuscenes\u001b[0;34m(pcd_path)\u001b[0m\n\u001b[1;32m      1\u001b[0m \u001b[38;5;28;01mdef\u001b[39;00m \u001b[38;5;21mget_number_points_nuscenes\u001b[39m(pcd_path):\n\u001b[0;32m----> 2\u001b[0m     pcd_data_np \u001b[38;5;241m=\u001b[39m \u001b[43mnp\u001b[49m\u001b[38;5;241;43m.\u001b[39;49m\u001b[43mfromfile\u001b[49m\u001b[43m(\u001b[49m\u001b[38;5;28;43mstr\u001b[39;49m\u001b[43m(\u001b[49m\u001b[43mpcd_path\u001b[49m\u001b[43m)\u001b[49m\u001b[43m,\u001b[49m\u001b[43m \u001b[49m\u001b[43mdtype\u001b[49m\u001b[38;5;241;43m=\u001b[39;49m\u001b[43mnp\u001b[49m\u001b[38;5;241;43m.\u001b[39;49m\u001b[43mfloat32\u001b[49m\u001b[43m,\u001b[49m\u001b[43m \u001b[49m\u001b[43mcount\u001b[49m\u001b[38;5;241;43m=\u001b[39;49m\u001b[38;5;241;43m-\u001b[39;49m\u001b[38;5;241;43m1\u001b[39;49m\u001b[43m)\u001b[49m\u001b[38;5;241m.\u001b[39mreshape(\n\u001b[1;32m      3\u001b[0m                         [\u001b[38;5;241m-\u001b[39m\u001b[38;5;241m1\u001b[39m, \u001b[38;5;241m5\u001b[39m]\n\u001b[1;32m      4\u001b[0m                         )\n\u001b[1;32m      5\u001b[0m     \u001b[38;5;28;01mreturn\u001b[39;00m \u001b[38;5;28mlen\u001b[39m(pcd_data_np)\n",
      "\u001b[0;31mKeyboardInterrupt\u001b[0m: "
     ]
    }
   ],
   "source": [
    "pathlist = Path(lidar_folder_nuscenes).glob('**/*.pcd.bin')\n",
    "\n",
    "nb_point_list = []\n",
    "for path in pathlist:\n",
    "    # Get number of point for each point cloud in the directory\n",
    "    nb_point_list.append(get_number_points_nuscenes(path))"
   ]
  },
  {
   "cell_type": "code",
   "execution_count": null,
   "metadata": {},
   "outputs": [
    {
     "name": "stdout",
     "output_type": "stream",
     "text": [
      "Average number of points per frame is: 34720.202405558186\n"
     ]
    }
   ],
   "source": [
    "print(\"For nuScenes, average number of points per frame is:\", sum(nb_point_list)/len(nb_point_list))"
   ]
  },
  {
   "cell_type": "markdown",
   "metadata": {},
   "source": [
    "semanticKITTI"
   ]
  },
  {
   "cell_type": "code",
   "execution_count": 56,
   "metadata": {},
   "outputs": [],
   "source": [
    "lidar_folder_KITTI = \"/workspaces/baseline/data/semantic_kitti/training/velodyne\""
   ]
  },
  {
   "cell_type": "code",
   "execution_count": 57,
   "metadata": {},
   "outputs": [],
   "source": [
    "def get_number_points_KITTI(pcd_path):\n",
    "    with open(pcd_path, \"rb\") as b:\n",
    "        scan = np.fromfile(b, dtype=np.float32).reshape(-1, 4)\n",
    "    return len(scan)"
   ]
  },
  {
   "cell_type": "code",
   "execution_count": 58,
   "metadata": {},
   "outputs": [],
   "source": [
    "pathlist = Path(lidar_folder_KITTI).glob('**/*.bin')\n",
    "\n",
    "nb_point_list_KITTI = []\n",
    "for path in pathlist:\n",
    "    # Get number of point for each point cloud in the directory\n",
    "    nb_point_list_KITTI.append(get_number_points_KITTI(path))"
   ]
  },
  {
   "cell_type": "code",
   "execution_count": 60,
   "metadata": {},
   "outputs": [
    {
     "name": "stdout",
     "output_type": "stream",
     "text": [
      "For scemanticKTTI, average number of points per frame is (in training set): 119224.68065766609\n"
     ]
    }
   ],
   "source": [
    "print(\"For scemanticKTTI, average number of points per frame is (in training set):\", sum(nb_point_list_KITTI)/len(nb_point_list_KITTI))"
   ]
  },
  {
   "cell_type": "markdown",
   "metadata": {},
   "source": [
    "OSDaR23"
   ]
  },
  {
   "cell_type": "code",
   "execution_count": 61,
   "metadata": {},
   "outputs": [],
   "source": [
    "lidar_folder_OSDaR = \"/workspaces/baseline/data/OSDaR_dataset/v_2\""
   ]
  },
  {
   "cell_type": "code",
   "execution_count": 67,
   "metadata": {},
   "outputs": [],
   "source": [
    "nb_point_list_OSDaR = []\n",
    "for dirpath, _, filenames in os.walk(lidar_folder_OSDaR):\n",
    "    for filename in filenames:\n",
    "        if filename.endswith('.pcd'):\n",
    "            pcd_data = np.loadtxt(os.path.join(dirpath, filename), skiprows=11) # Skip the header rows\n",
    "            nb_point_list_OSDaR.append(len(pcd_data))\n"
   ]
  },
  {
   "cell_type": "code",
   "execution_count": 68,
   "metadata": {},
   "outputs": [
    {
     "name": "stdout",
     "output_type": "stream",
     "text": [
      "For OSDaR23, average number of points per frame is: 203773.54136807818\n"
     ]
    }
   ],
   "source": [
    "print(\"For OSDaR23, average number of points per frame is:\", sum(nb_point_list_OSDaR)/len(nb_point_list_OSDaR))"
   ]
  }
 ],
 "metadata": {
  "kernelspec": {
   "display_name": "Python 3",
   "language": "python",
   "name": "python3"
  },
  "language_info": {
   "codemirror_mode": {
    "name": "ipython",
    "version": 3
   },
   "file_extension": ".py",
   "mimetype": "text/x-python",
   "name": "python",
   "nbconvert_exporter": "python",
   "pygments_lexer": "ipython3",
   "version": "3.8.10"
  }
 },
 "nbformat": 4,
 "nbformat_minor": 2
}
