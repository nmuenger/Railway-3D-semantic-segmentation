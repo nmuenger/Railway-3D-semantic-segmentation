{
 "cells": [
  {
   "cell_type": "code",
   "execution_count": 2,
   "metadata": {},
   "outputs": [],
   "source": [
    "import wandb\n",
    "\n",
    "api = wandb.Api()\n",
    "\n",
    "run = api.run(\"nmuenger/training_paste_ONLINE_with_all_tricks/soqglyfk\") # Run path, found under \"overview\" panel in wandb\n",
    "# run.config[\"augmentation_value\"] = 1   # Parameter name we wish to change (or add) and value to change it \n",
    "run.config[\"prob_augmentation_paste\"] = 0.7   # Parameter name we wish to change (or add) and value to change it\n",
    "run.update()"
   ]
  },
  {
   "cell_type": "code",
   "execution_count": null,
   "metadata": {},
   "outputs": [],
   "source": []
  }
 ],
 "metadata": {
  "kernelspec": {
   "display_name": "Python 3",
   "language": "python",
   "name": "python3"
  },
  "language_info": {
   "codemirror_mode": {
    "name": "ipython",
    "version": 3
   },
   "file_extension": ".py",
   "mimetype": "text/x-python",
   "name": "python",
   "nbconvert_exporter": "python",
   "pygments_lexer": "ipython3",
   "version": "3.8.10"
  }
 },
 "nbformat": 4,
 "nbformat_minor": 2
}
